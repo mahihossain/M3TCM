{
 "cells": [
  {
   "cell_type": "code",
   "execution_count": 1,
   "metadata": {},
   "outputs": [],
   "source": [
    "import pandas as pd\n",
    "\n",
    "# Load the data AnnoMI-full.csv into a data frame\n",
    "df = pd.read_csv('AnnoMI-full.csv')"
   ]
  },
  {
   "cell_type": "code",
   "execution_count": 2,
   "metadata": {},
   "outputs": [
    {
     "data": {
      "text/plain": [
       "(13551, 18)"
      ]
     },
     "execution_count": 2,
     "metadata": {},
     "output_type": "execute_result"
    }
   ],
   "source": [
    "df.shape"
   ]
  },
  {
   "cell_type": "code",
   "execution_count": 2,
   "metadata": {},
   "outputs": [],
   "source": [
    "# Make a new data frame where the topic is 'reducing alcohol consumption'\n",
    "\n",
    "df_alcohol = df[df['topic'] == 'reducing alcohol consumption']"
   ]
  },
  {
   "cell_type": "code",
   "execution_count": 3,
   "metadata": {},
   "outputs": [
    {
     "data": {
      "text/plain": [
       "(2326, 18)"
      ]
     },
     "execution_count": 3,
     "metadata": {},
     "output_type": "execute_result"
    }
   ],
   "source": [
    "# Count the total number of data points in the df_alcohol data frame\n",
    "\n",
    "df_alcohol.shape"
   ]
  },
  {
   "cell_type": "code",
   "execution_count": 4,
   "metadata": {},
   "outputs": [],
   "source": [
    "# Make two data frames one for theraripst's utterances and one for client's utterances\n",
    "\n",
    "# For the therapist's utterances when in the column interlocutor is 'therapist' take the utterance_text \n",
    "# from those rows and put them in a new data frame called df_alcohol_therapist\n",
    "\n",
    "df_alcohol_therapist = df_alcohol[df_alcohol['interlocutor'] == 'therapist']\n",
    "\n",
    "df_alcohol_client = df_alcohol[df_alcohol['interlocutor'] == 'client']"
   ]
  },
  {
   "cell_type": "code",
   "execution_count": 5,
   "metadata": {},
   "outputs": [
    {
     "data": {
      "text/html": [
       "<div>\n",
       "<style scoped>\n",
       "    .dataframe tbody tr th:only-of-type {\n",
       "        vertical-align: middle;\n",
       "    }\n",
       "\n",
       "    .dataframe tbody tr th {\n",
       "        vertical-align: top;\n",
       "    }\n",
       "\n",
       "    .dataframe thead th {\n",
       "        text-align: right;\n",
       "    }\n",
       "</style>\n",
       "<table border=\"1\" class=\"dataframe\">\n",
       "  <thead>\n",
       "    <tr style=\"text-align: right;\">\n",
       "      <th></th>\n",
       "      <th>mi_quality</th>\n",
       "      <th>transcript_id</th>\n",
       "      <th>video_title</th>\n",
       "      <th>video_url</th>\n",
       "      <th>topic</th>\n",
       "      <th>utterance_id</th>\n",
       "      <th>interlocutor</th>\n",
       "      <th>timestamp</th>\n",
       "      <th>utterance_text</th>\n",
       "      <th>annotator_id</th>\n",
       "      <th>therapist_input_exists</th>\n",
       "      <th>therapist_input_subtype</th>\n",
       "      <th>reflection_exists</th>\n",
       "      <th>reflection_subtype</th>\n",
       "      <th>question_exists</th>\n",
       "      <th>question_subtype</th>\n",
       "      <th>main_therapist_behaviour</th>\n",
       "      <th>client_talk_type</th>\n",
       "    </tr>\n",
       "  </thead>\n",
       "  <tbody>\n",
       "    <tr>\n",
       "      <th>0</th>\n",
       "      <td>high</td>\n",
       "      <td>0</td>\n",
       "      <td>NEW VIDEO: Brief intervention: \"Barbara\"</td>\n",
       "      <td>https://www.youtube.com/watch?v=PaSKcfTmFEk</td>\n",
       "      <td>reducing alcohol consumption</td>\n",
       "      <td>0</td>\n",
       "      <td>therapist</td>\n",
       "      <td>00:00:13</td>\n",
       "      <td>Thanks for filling it out. We give this form t...</td>\n",
       "      <td>3</td>\n",
       "      <td>False</td>\n",
       "      <td>NaN</td>\n",
       "      <td>False</td>\n",
       "      <td>NaN</td>\n",
       "      <td>True</td>\n",
       "      <td>open</td>\n",
       "      <td>question</td>\n",
       "      <td>NaN</td>\n",
       "    </tr>\n",
       "    <tr>\n",
       "      <th>2</th>\n",
       "      <td>high</td>\n",
       "      <td>0</td>\n",
       "      <td>NEW VIDEO: Brief intervention: \"Barbara\"</td>\n",
       "      <td>https://www.youtube.com/watch?v=PaSKcfTmFEk</td>\n",
       "      <td>reducing alcohol consumption</td>\n",
       "      <td>2</td>\n",
       "      <td>therapist</td>\n",
       "      <td>00:00:25</td>\n",
       "      <td>So, let's see. It looks that you put-- You dri...</td>\n",
       "      <td>3</td>\n",
       "      <td>True</td>\n",
       "      <td>information</td>\n",
       "      <td>False</td>\n",
       "      <td>NaN</td>\n",
       "      <td>False</td>\n",
       "      <td>NaN</td>\n",
       "      <td>therapist_input</td>\n",
       "      <td>NaN</td>\n",
       "    </tr>\n",
       "    <tr>\n",
       "      <th>4</th>\n",
       "      <td>high</td>\n",
       "      <td>0</td>\n",
       "      <td>NEW VIDEO: Brief intervention: \"Barbara\"</td>\n",
       "      <td>https://www.youtube.com/watch?v=PaSKcfTmFEk</td>\n",
       "      <td>reducing alcohol consumption</td>\n",
       "      <td>4</td>\n",
       "      <td>therapist</td>\n",
       "      <td>00:00:34</td>\n",
       "      <td>-and you usually have three to four drinks whe...</td>\n",
       "      <td>3</td>\n",
       "      <td>True</td>\n",
       "      <td>information</td>\n",
       "      <td>False</td>\n",
       "      <td>NaN</td>\n",
       "      <td>False</td>\n",
       "      <td>NaN</td>\n",
       "      <td>therapist_input</td>\n",
       "      <td>NaN</td>\n",
       "    </tr>\n",
       "    <tr>\n",
       "      <th>6</th>\n",
       "      <td>high</td>\n",
       "      <td>0</td>\n",
       "      <td>NEW VIDEO: Brief intervention: \"Barbara\"</td>\n",
       "      <td>https://www.youtube.com/watch?v=PaSKcfTmFEk</td>\n",
       "      <td>reducing alcohol consumption</td>\n",
       "      <td>6</td>\n",
       "      <td>therapist</td>\n",
       "      <td>00:00:42</td>\n",
       "      <td>Okay. That's at least 12 drinks a week.</td>\n",
       "      <td>3</td>\n",
       "      <td>True</td>\n",
       "      <td>information</td>\n",
       "      <td>False</td>\n",
       "      <td>NaN</td>\n",
       "      <td>False</td>\n",
       "      <td>NaN</td>\n",
       "      <td>therapist_input</td>\n",
       "      <td>NaN</td>\n",
       "    </tr>\n",
       "    <tr>\n",
       "      <th>8</th>\n",
       "      <td>high</td>\n",
       "      <td>0</td>\n",
       "      <td>NEW VIDEO: Brief intervention: \"Barbara\"</td>\n",
       "      <td>https://www.youtube.com/watch?v=PaSKcfTmFEk</td>\n",
       "      <td>reducing alcohol consumption</td>\n",
       "      <td>8</td>\n",
       "      <td>therapist</td>\n",
       "      <td>00:00:47</td>\n",
       "      <td>Okay. Just so you know, my role, um, when we t...</td>\n",
       "      <td>3</td>\n",
       "      <td>True</td>\n",
       "      <td>information</td>\n",
       "      <td>False</td>\n",
       "      <td>NaN</td>\n",
       "      <td>False</td>\n",
       "      <td>NaN</td>\n",
       "      <td>therapist_input</td>\n",
       "      <td>NaN</td>\n",
       "    </tr>\n",
       "  </tbody>\n",
       "</table>\n",
       "</div>"
      ],
      "text/plain": [
       "  mi_quality  transcript_id                               video_title  \\\n",
       "0       high              0  NEW VIDEO: Brief intervention: \"Barbara\"   \n",
       "2       high              0  NEW VIDEO: Brief intervention: \"Barbara\"   \n",
       "4       high              0  NEW VIDEO: Brief intervention: \"Barbara\"   \n",
       "6       high              0  NEW VIDEO: Brief intervention: \"Barbara\"   \n",
       "8       high              0  NEW VIDEO: Brief intervention: \"Barbara\"   \n",
       "\n",
       "                                     video_url                         topic  \\\n",
       "0  https://www.youtube.com/watch?v=PaSKcfTmFEk  reducing alcohol consumption   \n",
       "2  https://www.youtube.com/watch?v=PaSKcfTmFEk  reducing alcohol consumption   \n",
       "4  https://www.youtube.com/watch?v=PaSKcfTmFEk  reducing alcohol consumption   \n",
       "6  https://www.youtube.com/watch?v=PaSKcfTmFEk  reducing alcohol consumption   \n",
       "8  https://www.youtube.com/watch?v=PaSKcfTmFEk  reducing alcohol consumption   \n",
       "\n",
       "   utterance_id interlocutor timestamp  \\\n",
       "0             0    therapist  00:00:13   \n",
       "2             2    therapist  00:00:25   \n",
       "4             4    therapist  00:00:34   \n",
       "6             6    therapist  00:00:42   \n",
       "8             8    therapist  00:00:47   \n",
       "\n",
       "                                      utterance_text  annotator_id  \\\n",
       "0  Thanks for filling it out. We give this form t...             3   \n",
       "2  So, let's see. It looks that you put-- You dri...             3   \n",
       "4  -and you usually have three to four drinks whe...             3   \n",
       "6            Okay. That's at least 12 drinks a week.             3   \n",
       "8  Okay. Just so you know, my role, um, when we t...             3   \n",
       "\n",
       "  therapist_input_exists therapist_input_subtype reflection_exists  \\\n",
       "0                  False                     NaN             False   \n",
       "2                   True             information             False   \n",
       "4                   True             information             False   \n",
       "6                   True             information             False   \n",
       "8                   True             information             False   \n",
       "\n",
       "  reflection_subtype question_exists question_subtype  \\\n",
       "0                NaN            True             open   \n",
       "2                NaN           False              NaN   \n",
       "4                NaN           False              NaN   \n",
       "6                NaN           False              NaN   \n",
       "8                NaN           False              NaN   \n",
       "\n",
       "  main_therapist_behaviour client_talk_type  \n",
       "0                 question              NaN  \n",
       "2          therapist_input              NaN  \n",
       "4          therapist_input              NaN  \n",
       "6          therapist_input              NaN  \n",
       "8          therapist_input              NaN  "
      ]
     },
     "execution_count": 5,
     "metadata": {},
     "output_type": "execute_result"
    }
   ],
   "source": [
    "df_alcohol_therapist.head()"
   ]
  },
  {
   "cell_type": "code",
   "execution_count": 6,
   "metadata": {},
   "outputs": [
    {
     "data": {
      "text/html": [
       "<div>\n",
       "<style scoped>\n",
       "    .dataframe tbody tr th:only-of-type {\n",
       "        vertical-align: middle;\n",
       "    }\n",
       "\n",
       "    .dataframe tbody tr th {\n",
       "        vertical-align: top;\n",
       "    }\n",
       "\n",
       "    .dataframe thead th {\n",
       "        text-align: right;\n",
       "    }\n",
       "</style>\n",
       "<table border=\"1\" class=\"dataframe\">\n",
       "  <thead>\n",
       "    <tr style=\"text-align: right;\">\n",
       "      <th></th>\n",
       "      <th>mi_quality</th>\n",
       "      <th>transcript_id</th>\n",
       "      <th>video_title</th>\n",
       "      <th>video_url</th>\n",
       "      <th>topic</th>\n",
       "      <th>utterance_id</th>\n",
       "      <th>interlocutor</th>\n",
       "      <th>timestamp</th>\n",
       "      <th>utterance_text</th>\n",
       "      <th>annotator_id</th>\n",
       "      <th>therapist_input_exists</th>\n",
       "      <th>therapist_input_subtype</th>\n",
       "      <th>reflection_exists</th>\n",
       "      <th>reflection_subtype</th>\n",
       "      <th>question_exists</th>\n",
       "      <th>question_subtype</th>\n",
       "      <th>main_therapist_behaviour</th>\n",
       "      <th>client_talk_type</th>\n",
       "    </tr>\n",
       "  </thead>\n",
       "  <tbody>\n",
       "    <tr>\n",
       "      <th>1</th>\n",
       "      <td>high</td>\n",
       "      <td>0</td>\n",
       "      <td>NEW VIDEO: Brief intervention: \"Barbara\"</td>\n",
       "      <td>https://www.youtube.com/watch?v=PaSKcfTmFEk</td>\n",
       "      <td>reducing alcohol consumption</td>\n",
       "      <td>1</td>\n",
       "      <td>client</td>\n",
       "      <td>00:00:24</td>\n",
       "      <td>Sure.</td>\n",
       "      <td>3</td>\n",
       "      <td>NaN</td>\n",
       "      <td>NaN</td>\n",
       "      <td>NaN</td>\n",
       "      <td>NaN</td>\n",
       "      <td>NaN</td>\n",
       "      <td>NaN</td>\n",
       "      <td>NaN</td>\n",
       "      <td>neutral</td>\n",
       "    </tr>\n",
       "    <tr>\n",
       "      <th>3</th>\n",
       "      <td>high</td>\n",
       "      <td>0</td>\n",
       "      <td>NEW VIDEO: Brief intervention: \"Barbara\"</td>\n",
       "      <td>https://www.youtube.com/watch?v=PaSKcfTmFEk</td>\n",
       "      <td>reducing alcohol consumption</td>\n",
       "      <td>3</td>\n",
       "      <td>client</td>\n",
       "      <td>00:00:34</td>\n",
       "      <td>Mm-hmm.</td>\n",
       "      <td>3</td>\n",
       "      <td>NaN</td>\n",
       "      <td>NaN</td>\n",
       "      <td>NaN</td>\n",
       "      <td>NaN</td>\n",
       "      <td>NaN</td>\n",
       "      <td>NaN</td>\n",
       "      <td>NaN</td>\n",
       "      <td>neutral</td>\n",
       "    </tr>\n",
       "    <tr>\n",
       "      <th>5</th>\n",
       "      <td>high</td>\n",
       "      <td>0</td>\n",
       "      <td>NEW VIDEO: Brief intervention: \"Barbara\"</td>\n",
       "      <td>https://www.youtube.com/watch?v=PaSKcfTmFEk</td>\n",
       "      <td>reducing alcohol consumption</td>\n",
       "      <td>5</td>\n",
       "      <td>client</td>\n",
       "      <td>00:00:39</td>\n",
       "      <td>Usually three drinks and glasses of wine.</td>\n",
       "      <td>3</td>\n",
       "      <td>NaN</td>\n",
       "      <td>NaN</td>\n",
       "      <td>NaN</td>\n",
       "      <td>NaN</td>\n",
       "      <td>NaN</td>\n",
       "      <td>NaN</td>\n",
       "      <td>NaN</td>\n",
       "      <td>neutral</td>\n",
       "    </tr>\n",
       "    <tr>\n",
       "      <th>7</th>\n",
       "      <td>high</td>\n",
       "      <td>0</td>\n",
       "      <td>NEW VIDEO: Brief intervention: \"Barbara\"</td>\n",
       "      <td>https://www.youtube.com/watch?v=PaSKcfTmFEk</td>\n",
       "      <td>reducing alcohol consumption</td>\n",
       "      <td>7</td>\n",
       "      <td>client</td>\n",
       "      <td>00:00:46</td>\n",
       "      <td>Something like that.</td>\n",
       "      <td>3</td>\n",
       "      <td>NaN</td>\n",
       "      <td>NaN</td>\n",
       "      <td>NaN</td>\n",
       "      <td>NaN</td>\n",
       "      <td>NaN</td>\n",
       "      <td>NaN</td>\n",
       "      <td>NaN</td>\n",
       "      <td>neutral</td>\n",
       "    </tr>\n",
       "    <tr>\n",
       "      <th>9</th>\n",
       "      <td>high</td>\n",
       "      <td>0</td>\n",
       "      <td>NEW VIDEO: Brief intervention: \"Barbara\"</td>\n",
       "      <td>https://www.youtube.com/watch?v=PaSKcfTmFEk</td>\n",
       "      <td>reducing alcohol consumption</td>\n",
       "      <td>9</td>\n",
       "      <td>client</td>\n",
       "      <td>00:01:03</td>\n",
       "      <td>Okay.</td>\n",
       "      <td>3</td>\n",
       "      <td>NaN</td>\n",
       "      <td>NaN</td>\n",
       "      <td>NaN</td>\n",
       "      <td>NaN</td>\n",
       "      <td>NaN</td>\n",
       "      <td>NaN</td>\n",
       "      <td>NaN</td>\n",
       "      <td>neutral</td>\n",
       "    </tr>\n",
       "  </tbody>\n",
       "</table>\n",
       "</div>"
      ],
      "text/plain": [
       "  mi_quality  transcript_id                               video_title  \\\n",
       "1       high              0  NEW VIDEO: Brief intervention: \"Barbara\"   \n",
       "3       high              0  NEW VIDEO: Brief intervention: \"Barbara\"   \n",
       "5       high              0  NEW VIDEO: Brief intervention: \"Barbara\"   \n",
       "7       high              0  NEW VIDEO: Brief intervention: \"Barbara\"   \n",
       "9       high              0  NEW VIDEO: Brief intervention: \"Barbara\"   \n",
       "\n",
       "                                     video_url                         topic  \\\n",
       "1  https://www.youtube.com/watch?v=PaSKcfTmFEk  reducing alcohol consumption   \n",
       "3  https://www.youtube.com/watch?v=PaSKcfTmFEk  reducing alcohol consumption   \n",
       "5  https://www.youtube.com/watch?v=PaSKcfTmFEk  reducing alcohol consumption   \n",
       "7  https://www.youtube.com/watch?v=PaSKcfTmFEk  reducing alcohol consumption   \n",
       "9  https://www.youtube.com/watch?v=PaSKcfTmFEk  reducing alcohol consumption   \n",
       "\n",
       "   utterance_id interlocutor timestamp  \\\n",
       "1             1       client  00:00:24   \n",
       "3             3       client  00:00:34   \n",
       "5             5       client  00:00:39   \n",
       "7             7       client  00:00:46   \n",
       "9             9       client  00:01:03   \n",
       "\n",
       "                              utterance_text  annotator_id  \\\n",
       "1                                      Sure.             3   \n",
       "3                                    Mm-hmm.             3   \n",
       "5  Usually three drinks and glasses of wine.             3   \n",
       "7                       Something like that.             3   \n",
       "9                                      Okay.             3   \n",
       "\n",
       "  therapist_input_exists therapist_input_subtype reflection_exists  \\\n",
       "1                    NaN                     NaN               NaN   \n",
       "3                    NaN                     NaN               NaN   \n",
       "5                    NaN                     NaN               NaN   \n",
       "7                    NaN                     NaN               NaN   \n",
       "9                    NaN                     NaN               NaN   \n",
       "\n",
       "  reflection_subtype question_exists question_subtype  \\\n",
       "1                NaN             NaN              NaN   \n",
       "3                NaN             NaN              NaN   \n",
       "5                NaN             NaN              NaN   \n",
       "7                NaN             NaN              NaN   \n",
       "9                NaN             NaN              NaN   \n",
       "\n",
       "  main_therapist_behaviour client_talk_type  \n",
       "1                      NaN          neutral  \n",
       "3                      NaN          neutral  \n",
       "5                      NaN          neutral  \n",
       "7                      NaN          neutral  \n",
       "9                      NaN          neutral  "
      ]
     },
     "execution_count": 6,
     "metadata": {},
     "output_type": "execute_result"
    }
   ],
   "source": [
    "df_alcohol_client.head()"
   ]
  },
  {
   "cell_type": "code",
   "execution_count": 7,
   "metadata": {},
   "outputs": [
    {
     "data": {
      "text/plain": [
       "(1156, 18)"
      ]
     },
     "execution_count": 7,
     "metadata": {},
     "output_type": "execute_result"
    }
   ],
   "source": [
    "df_alcohol_client.shape"
   ]
  },
  {
   "cell_type": "code",
   "execution_count": 8,
   "metadata": {},
   "outputs": [
    {
     "data": {
      "text/plain": [
       "0"
      ]
     },
     "execution_count": 8,
     "metadata": {},
     "output_type": "execute_result"
    }
   ],
   "source": [
    "# Count the number of nan on utterance_text column in df_alcohol_client\n",
    "\n",
    "df_alcohol_client['utterance_text'].isna().sum()"
   ]
  },
  {
   "cell_type": "code",
   "execution_count": 9,
   "metadata": {},
   "outputs": [
    {
     "data": {
      "text/plain": [
       "0"
      ]
     },
     "execution_count": 9,
     "metadata": {},
     "output_type": "execute_result"
    }
   ],
   "source": [
    "# Count the number of nan on client_text_type\n",
    "\n",
    "df_alcohol_client['client_talk_type'].isna().sum()"
   ]
  },
  {
   "cell_type": "code",
   "execution_count": 10,
   "metadata": {},
   "outputs": [
    {
     "data": {
      "text/plain": [
       "<Axes: ylabel='count'>"
      ]
     },
     "execution_count": 10,
     "metadata": {},
     "output_type": "execute_result"
    },
    {
     "data": {
      "image/png": "[encoded data removed]",
      "text/plain": [
       "<Figure size 640x480 with 1 Axes>"
      ]
     },
     "metadata": {},
     "output_type": "display_data"
    }
   ],
   "source": [
    "# Plot therapist_input_subtype in a pie chart with percentages also including NaN values\n",
    "\n",
    "df_alcohol_therapist['therapist_input_subtype'].value_counts(dropna=False).plot(kind='pie', autopct='%1.1f%%')"
   ]
  },
  {
   "cell_type": "code",
   "execution_count": 11,
   "metadata": {},
   "outputs": [
    {
     "data": {
      "text/plain": [
       "<Axes: ylabel='count'>"
      ]
     },
     "execution_count": 11,
     "metadata": {},
     "output_type": "execute_result"
    },
    {
     "data": {
      "image/png": "[encoded data removed]",
      "text/plain": [
       "<Figure size 640x480 with 1 Axes>"
      ]
     },
     "metadata": {},
     "output_type": "display_data"
    }
   ],
   "source": [
    "# Plot main_therapist_behaviour\tin a pie chart with percentages\n",
    "\n",
    "df_alcohol_therapist['main_therapist_behaviour'].value_counts(dropna=False).plot(kind='pie', autopct='%1.0f%%')"
   ]
  },
  {
   "cell_type": "code",
   "execution_count": 12,
   "metadata": {},
   "outputs": [
    {
     "data": {
      "text/plain": [
       "<Axes: ylabel='count'>"
      ]
     },
     "execution_count": 12,
     "metadata": {},
     "output_type": "execute_result"
    },
    {
     "data": {
      "image/png": "[encoded data removed]",
      "text/plain": [
       "<Figure size 640x480 with 1 Axes>"
      ]
     },
     "metadata": {},
     "output_type": "display_data"
    }
   ],
   "source": [
    "# Plot a pie chart of the client_talk_type column\n",
    "\n",
    "df_alcohol_client['client_talk_type'].value_counts(dropna=False).plot(kind='pie', autopct='%1.0f%%')"
   ]
  },
  {
   "cell_type": "code",
   "execution_count": 13,
   "metadata": {},
   "outputs": [],
   "source": [
    "# in df_alcohol_client get rid of the rows where for the same utterance_text the value of client_talk_type is same\n",
    "# and keep the first one\n",
    "\n",
    "# df_alcohol_client = df_alcohol_client.drop_duplicates(subset=['utterance_text', 'client_talk_type'], keep='first')"
   ]
  },
  {
   "cell_type": "code",
   "execution_count": 1,
   "metadata": {},
   "outputs": [],
   "source": [
    "import torch\n",
    "from transformers import BertForSequenceClassification, BertTokenizer"
   ]
  },
  {
   "cell_type": "code",
   "execution_count": 2,
   "metadata": {},
   "outputs": [
    {
     "data": {
      "text/plain": [
       "'11.8'"
      ]
     },
     "execution_count": 2,
     "metadata": {},
     "output_type": "execute_result"
    }
   ],
   "source": [
    "torch.version.cuda"
   ]
  },
  {
   "cell_type": "code",
   "execution_count": 3,
   "metadata": {},
   "outputs": [
    {
     "data": {
      "text/plain": [
       "True"
      ]
     },
     "execution_count": 3,
     "metadata": {},
     "output_type": "execute_result"
    }
   ],
   "source": [
    "torch.cuda.is_available()"
   ]
  },
  {
   "cell_type": "code",
   "execution_count": 4,
   "metadata": {},
   "outputs": [
    {
     "name": "stderr",
     "output_type": "stream",
     "text": [
      "Some weights of the model checkpoint at bert-base-uncased were not used when initializing BertForSequenceClassification: ['cls.predictions.transform.dense.bias', 'cls.seq_relationship.bias', 'cls.predictions.transform.LayerNorm.bias', 'cls.predictions.bias', 'cls.seq_relationship.weight', 'cls.predictions.transform.dense.weight', 'cls.predictions.transform.LayerNorm.weight']\n",
      "- This IS expected if you are initializing BertForSequenceClassification from the checkpoint of a model trained on another task or with another architecture (e.g. initializing a BertForSequenceClassification model from a BertForPreTraining model).\n",
      "- This IS NOT expected if you are initializing BertForSequenceClassification from the checkpoint of a model that you expect to be exactly identical (initializing a BertForSequenceClassification model from a BertForSequenceClassification model).\n",
      "Some weights of BertForSequenceClassification were not initialized from the model checkpoint at bert-base-uncased and are newly initialized: ['classifier.bias', 'classifier.weight']\n",
      "You should probably TRAIN this model on a down-stream task to be able to use it for predictions and inference.\n"
     ]
    }
   ],
   "source": [
    "# Load the BERT tokenizer and model\n",
    "\n",
    "tokenizer = BertTokenizer.from_pretrained('bert-base-uncased', do_lower_case=True)\n",
    "\n",
    "model_path = \"/userdata/hossain/annomi_classification/pretrained_models/\"\n",
    "\n",
    "model = BertForSequenceClassification.from_pretrained(\n",
    "    'bert-base-uncased',\n",
    "    cache_dir=model_path,\n",
    "    num_labels = 3,  # The number of output labels -> 3.\n",
    "    output_attentions = False,  # Whether the model returns attentions weights.\n",
    "    output_hidden_states = False,  # Whether the model returns all hidden-states.\n",
    ")\n",
    "\n",
    "# model.cuda()"
   ]
  },
  {
   "cell_type": "code",
   "execution_count": null,
   "metadata": {},
   "outputs": [],
   "source": [
    "# from transformers import RobertaTokenizer, RobertaForSequenceClassification\n",
    "\n",
    "# tokenizer = RobertaTokenizer.from_pretrained('roberta-base')\n",
    "\n",
    "# model_path = \"/userdata/hossain/annomi_classification/pretrained_models/\"\n",
    "\n",
    "# model = RobertaForSequenceClassification.from_pretrained(\n",
    "#     'roberta-base',\n",
    "#     cache_dir=model_path,\n",
    "#     num_labels = 3,  # The number of output labels -> 3.\n",
    "#     output_attentions = False,  # Whether the model returns attentions weights.\n",
    "#     output_hidden_states = False,  # Whether the model returns all hidden-states.\n",
    "# )"
   ]
  },
  {
   "cell_type": "code",
   "execution_count": 16,
   "metadata": {},
   "outputs": [],
   "source": [
    "# Check if a GPU is available and if not, we'll use a CPU\n",
    "device = torch.device('cuda' if torch.cuda.is_available() else 'cpu')"
   ]
  },
  {
   "cell_type": "code",
   "execution_count": 11,
   "metadata": {},
   "outputs": [],
   "source": [
    "import numpy as np\n",
    "from sklearn.model_selection import StratifiedKFold\n",
    "from sklearn.metrics import accuracy_score, classification_report\n",
    "from sklearn.preprocessing import LabelEncoder\n",
    "from torch.utils.data import TensorDataset, DataLoader, RandomSampler, SequentialSampler"
   ]
  },
  {
   "cell_type": "code",
   "execution_count": null,
   "metadata": {},
   "outputs": [
    {
     "name": "stdout",
     "output_type": "stream",
     "text": [
      "Training for fold 1 ...\n",
      "Score for fold 1: 0.6077586206896551\n",
      "              precision    recall  f1-score   support\n",
      "\n",
      "           0       0.00      0.00      0.00        62\n",
      "           1       0.62      0.96      0.76       146\n",
      "           2       0.12      0.04      0.06        24\n",
      "\n",
      "    accuracy                           0.61       232\n",
      "   macro avg       0.25      0.33      0.27       232\n",
      "weighted avg       0.41      0.61      0.48       232\n",
      "\n",
      "Training for fold 2 ...\n",
      "Score for fold 2: 0.6147186147186147\n",
      "              precision    recall  f1-score   support\n",
      "\n",
      "           0       0.00      0.00      0.00        61\n",
      "           1       0.63      0.97      0.76       146\n",
      "           2       0.00      0.00      0.00        24\n",
      "\n",
      "    accuracy                           0.61       231\n",
      "   macro avg       0.21      0.32      0.25       231\n",
      "weighted avg       0.40      0.61      0.48       231\n",
      "\n",
      "Training for fold 3 ...\n",
      "Score for fold 3: 0.6060606060606061\n",
      "              precision    recall  f1-score   support\n",
      "\n",
      "           0       0.00      0.00      0.00        61\n",
      "           1       0.63      0.95      0.75       146\n",
      "           2       0.18      0.08      0.11        24\n",
      "\n",
      "    accuracy                           0.61       231\n",
      "   macro avg       0.27      0.34      0.29       231\n",
      "weighted avg       0.42      0.61      0.49       231\n",
      "\n",
      "Training for fold 4 ...\n",
      "Score for fold 4: 0.6060606060606061\n",
      "              precision    recall  f1-score   support\n",
      "\n",
      "           0       0.00      0.00      0.00        62\n",
      "           1       0.62      0.97      0.76       145\n",
      "           2       0.00      0.00      0.00        24\n",
      "\n",
      "    accuracy                           0.61       231\n",
      "   macro avg       0.21      0.32      0.25       231\n",
      "weighted avg       0.39      0.61      0.48       231\n",
      "\n",
      "Training for fold 5 ...\n",
      "Score for fold 5: 0.6147186147186147\n",
      "              precision    recall  f1-score   support\n",
      "\n",
      "           0       0.00      0.00      0.00        62\n",
      "           1       0.63      0.97      0.76       145\n",
      "           2       0.22      0.08      0.12        24\n",
      "\n",
      "    accuracy                           0.61       231\n",
      "   macro avg       0.28      0.35      0.29       231\n",
      "weighted avg       0.42      0.61      0.49       231\n",
      "\n",
      "Average accuracy 0.6098634124496193\n"
     ]
    }
   ],
   "source": [
    "# Initialize the label encoder\n",
    "label_encoder = LabelEncoder()\n",
    "\n",
    "# Define the K-fold Cross Validator\n",
    "kfold = StratifiedKFold(n_splits=5, shuffle=True, random_state=2022)\n",
    "\n",
    "# K-fold Cross Validation model evaluation\n",
    "fold_no = 1\n",
    "acc_per_fold = []\n",
    "for train, val in kfold.split(df_alcohol_client['utterance_text'], df_alcohol_client['client_talk_type']):\n",
    "    \n",
    "    print(f'Training for fold {fold_no} ...')\n",
    "    \n",
    "    # Split the data\n",
    "    train_text, val_text = df_alcohol_client['utterance_text'].iloc[train], df_alcohol_client['utterance_text'].iloc[val]\n",
    "    train_labels, val_labels = df_alcohol_client['client_talk_type'].iloc[train], df_alcohol_client['client_talk_type'].iloc[val]\n",
    "    \n",
    "    # Fit the label encoder and transform the labels\n",
    "    train_labels = label_encoder.fit_transform(train_labels)\n",
    "    val_labels = label_encoder.transform(val_labels)\n",
    "    \n",
    "    # Tokenize the text\n",
    "    train_encodings = tokenizer(train_text.tolist(), truncation=True, padding=True, max_length=512)\n",
    "    val_encodings = tokenizer(val_text.tolist(), truncation=True, padding=True, max_length=512)\n",
    "    \n",
    "    # Convert the encodings and the labels to tensors\n",
    "    train_input_ids = torch.tensor(train_encodings['input_ids'])\n",
    "    train_attention_mask = torch.tensor(train_encodings['attention_mask'])\n",
    "    train_labels = torch.tensor(train_labels)\n",
    "\n",
    "    val_input_ids = torch.tensor(val_encodings['input_ids'])\n",
    "    val_attention_mask = torch.tensor(val_encodings['attention_mask'])\n",
    "    val_labels = torch.tensor(val_labels)\n",
    "    \n",
    "    # Create the DataLoader for our training set\n",
    "    train_data = TensorDataset(train_input_ids, train_attention_mask, train_labels)\n",
    "    train_sampler = RandomSampler(train_data)\n",
    "    train_dataloader = DataLoader(train_data, sampler=train_sampler)\n",
    "\n",
    "    # Create the DataLoader for our validation set\n",
    "    val_data = TensorDataset(val_input_ids, val_attention_mask, val_labels)\n",
    "    val_sampler = SequentialSampler(val_data)\n",
    "    val_dataloader = DataLoader(val_data, sampler=val_sampler)\n",
    "    \n",
    "    # Training and Evaluation code here\n",
    "    # Put model in evaluation mode\n",
    "    model.eval()\n",
    "\n",
    "    # Tracking variables \n",
    "    predictions, true_labels = [], []\n",
    "\n",
    "    # Predict \n",
    "    for batch in val_dataloader:\n",
    "      # Add batch to device\n",
    "      batch = tuple(t.to(device) for t in batch)\n",
    "    \n",
    "      # Unpack the inputs from our dataloader\n",
    "      b_input_ids, b_input_mask, b_labels = batch\n",
    "    \n",
    "      # Telling the model not to compute or store gradients, saving memory and speeding up prediction\n",
    "      with torch.no_grad():\n",
    "          # Forward pass, calculate logit predictions\n",
    "          outputs = model(b_input_ids, token_type_ids=None, \n",
    "                          attention_mask=b_input_mask)\n",
    "\n",
    "      logits = outputs[0]\n",
    "\n",
    "      # Move logits and labels to CPU\n",
    "      logits = logits.detach().cpu().numpy()\n",
    "      label_ids = b_labels.to('cpu').numpy()\n",
    "    \n",
    "      # Store predictions and true labels\n",
    "      predictions.append(logits)\n",
    "      true_labels.append(label_ids)\n",
    "\n",
    "    \n",
    "    # Generate a prediction based on the model's response\n",
    "    flat_predictions = np.concatenate(predictions, axis=0)\n",
    "    flat_true_labels = np.concatenate(true_labels, axis=0)\n",
    "    predicted_labels = np.argmax(flat_predictions, axis=1)\n",
    "    \n",
    "    # Calculate the accuracy score\n",
    "    accuracy = accuracy_score(flat_true_labels, predicted_labels)\n",
    "    print(f'Score for fold {fold_no}: {accuracy}')\n",
    "    print(classification_report(flat_true_labels, predicted_labels, zero_division=0))\n",
    "    acc_per_fold.append(accuracy)\n",
    "    \n",
    "    fold_no = fold_no + 1\n",
    "\n",
    "# Average accuracy\n",
    "print('Average accuracy', np.mean(acc_per_fold))\n"
   ]
  }
 ],
 "metadata": {
  "kernelspec": {
   "display_name": "annoMI",
   "language": "python",
   "name": "python3"
  },
  "language_info": {
   "codemirror_mode": {
    "name": "ipython",
    "version": 3
   },
   "file_extension": ".py",
   "mimetype": "text/x-python",
   "name": "python",
   "nbconvert_exporter": "python",
   "pygments_lexer": "ipython3",
   "version": "3.10.12"
  },
  "orig_nbformat": 4
 },
 "nbformat": 4,
 "nbformat_minor": 2
}
