{
 "cells": [
  {
   "cell_type": "code",
   "execution_count": 1,
   "metadata": {
    "execution": {
     "iopub.execute_input": "2023-09-23T15:26:35.436525Z",
     "iopub.status.busy": "2023-09-23T15:26:35.436052Z",
     "iopub.status.idle": "2023-09-23T15:26:38.532496Z",
     "shell.execute_reply": "2023-09-23T15:26:38.531524Z"
    }
   },
   "outputs": [],
   "source": [
    "import pandas as pd\n",
    "import numpy as np\n",
    "from sklearn.model_selection import train_test_split\n",
    "from torch.utils.data import Dataset\n",
    "import torch\n",
    "import torch.nn as nn\n",
    "import torch.nn.functional as F\n",
    "from transformers import TrainerCallback, TrainerState, TrainerControl\n",
    "from transformers import AutoModelForAudioClassification, TrainingArguments, Trainer, AutoFeatureExtractor, AutoConfig\n",
    "import evaluate\n",
    "from sklearn.metrics import f1_score"
   ]
  },
  {
   "cell_type": "code",
   "execution_count": 2,
   "metadata": {
    "execution": {
     "iopub.execute_input": "2023-09-23T15:26:38.536283Z",
     "iopub.status.busy": "2023-09-23T15:26:38.535883Z",
     "iopub.status.idle": "2023-09-23T15:26:45.259760Z",
     "shell.execute_reply": "2023-09-23T15:26:45.258797Z"
    }
   },
   "outputs": [],
   "source": [
    "df = pd.read_pickle('AnnoMI-ast-new.pkl')"
   ]
  },
  {
   "cell_type": "code",
   "execution_count": 4,
   "metadata": {
    "execution": {
     "iopub.execute_input": "2023-09-23T15:26:45.262951Z",
     "iopub.status.busy": "2023-09-23T15:26:45.262260Z",
     "iopub.status.idle": "2023-09-23T15:26:45.274668Z",
     "shell.execute_reply": "2023-09-23T15:26:45.273997Z"
    }
   },
   "outputs": [],
   "source": [
    "device = torch.device(\"cuda\" if torch.cuda.is_available() else \"cpu\")"
   ]
  },
  {
   "cell_type": "code",
   "execution_count": 5,
   "metadata": {
    "execution": {
     "iopub.execute_input": "2023-09-23T15:26:45.277168Z",
     "iopub.status.busy": "2023-09-23T15:26:45.276698Z",
     "iopub.status.idle": "2023-09-23T15:26:45.291170Z",
     "shell.execute_reply": "2023-09-23T15:26:45.290200Z"
    }
   },
   "outputs": [],
   "source": [
    "# make a dataset where intelocutor is client\n",
    "\n",
    "df_client = df[df['interlocutor'] == 'client']\n",
    "df_client = df_client[['client_ast_emb', 'client_talk_type']]\n",
    "df_client.rename(columns={'client_ast_emb': 'inputs', 'client_talk_type': 'labels'}, inplace=True)\n",
    "\n",
    "# df_therapist = df[df['interlocutor'] == 'therapist']\n",
    "# df_therapist = df_therapist[['therapist_ast_emb', 'main_therapist_behaviour']]\n",
    "# df_therapist.rename(columns={'therapist_ast_emb': 'inputs', 'main_therapist_behaviour': 'labels'}, inplace=True)"
   ]
  },
  {
   "cell_type": "code",
   "execution_count": 6,
   "metadata": {
    "execution": {
     "iopub.execute_input": "2023-09-23T15:26:45.293942Z",
     "iopub.status.busy": "2023-09-23T15:26:45.293441Z",
     "iopub.status.idle": "2023-09-23T15:26:45.300654Z",
     "shell.execute_reply": "2023-09-23T15:26:45.300005Z"
    }
   },
   "outputs": [
    {
     "data": {
      "text/plain": [
       "array(['neutral', 'change', 'sustain'], dtype=object)"
      ]
     },
     "execution_count": 6,
     "metadata": {},
     "output_type": "execute_result"
    }
   ],
   "source": [
    "labels = df_client['labels'].unique()\n",
    "# labels = df_therapist['labels'].unique()\n",
    "labels"
   ]
  },
  {
   "cell_type": "code",
   "execution_count": 7,
   "metadata": {
    "execution": {
     "iopub.execute_input": "2023-09-23T15:26:45.331623Z",
     "iopub.status.busy": "2023-09-23T15:26:45.331434Z",
     "iopub.status.idle": "2023-09-23T15:26:45.334748Z",
     "shell.execute_reply": "2023-09-23T15:26:45.334094Z"
    }
   },
   "outputs": [],
   "source": [
    "label2id, id2label = dict(), dict()\n",
    "for i, label in enumerate(labels):\n",
    "    label2id[label] = i  # store as integer\n",
    "    id2label[i] = label  # key is also integer\n"
   ]
  },
  {
   "cell_type": "code",
   "execution_count": 8,
   "metadata": {
    "execution": {
     "iopub.execute_input": "2023-09-23T15:26:45.337076Z",
     "iopub.status.busy": "2023-09-23T15:26:45.336634Z",
     "iopub.status.idle": "2023-09-23T15:26:45.340615Z",
     "shell.execute_reply": "2023-09-23T15:26:45.339980Z"
    }
   },
   "outputs": [
    {
     "data": {
      "text/plain": [
       "'sustain'"
      ]
     },
     "execution_count": 8,
     "metadata": {},
     "output_type": "execute_result"
    }
   ],
   "source": [
    "id2label[2]"
   ]
  },
  {
   "cell_type": "code",
   "execution_count": 9,
   "metadata": {
    "execution": {
     "iopub.execute_input": "2023-09-23T15:26:45.342927Z",
     "iopub.status.busy": "2023-09-23T15:26:45.342466Z",
     "iopub.status.idle": "2023-09-23T15:26:45.347165Z",
     "shell.execute_reply": "2023-09-23T15:26:45.346495Z"
    }
   },
   "outputs": [],
   "source": [
    "train_data, test_data = train_test_split(df_client, test_size=0.2, random_state=42)\n",
    "# train_data, test_data = train_test_split(df_therapist, test_size=0.2, random_state=42)"
   ]
  },
  {
   "cell_type": "code",
   "execution_count": 10,
   "metadata": {
    "execution": {
     "iopub.execute_input": "2023-09-23T15:26:45.349499Z",
     "iopub.status.busy": "2023-09-23T15:26:45.349062Z",
     "iopub.status.idle": "2023-09-23T15:26:45.353742Z",
     "shell.execute_reply": "2023-09-23T15:26:45.353079Z"
    }
   },
   "outputs": [],
   "source": [
    "class CustomDataset(Dataset):\n",
    "    def __init__(self, dataframe, label2id):  # Add label2id as an argument\n",
    "        self.data = dataframe\n",
    "        self.label2id = label2id  # Store it\n",
    "\n",
    "    def __len__(self):\n",
    "        return len(self.data)\n",
    "\n",
    "    def __getitem__(self, idx):\n",
    "        label = self.data.iloc[idx]['labels']\n",
    "        encoded_label = self.label2id[label]  # Use label2id to encode the label\n",
    "        \n",
    "        input_values = self.data.iloc[idx]['inputs']\n",
    "        input_values = input_values.squeeze(0)  # Remove the unnecessary dimension\n",
    "        \n",
    "        return {\n",
    "            \"input_values\": input_values,\n",
    "            \"labels\": encoded_label  # Use the encoded label\n",
    "        }\n",
    "\n",
    "\n",
    "train_dataset = CustomDataset(train_data, label2id)  # Pass label2id when initializing\n",
    "eval_dataset = CustomDataset(test_data, label2id)    # Pass label2id when initializing\n"
   ]
  },
  {
   "cell_type": "code",
   "execution_count": 11,
   "metadata": {
    "execution": {
     "iopub.execute_input": "2023-09-23T15:26:45.356147Z",
     "iopub.status.busy": "2023-09-23T15:26:45.355501Z",
     "iopub.status.idle": "2023-09-23T15:26:45.940943Z",
     "shell.execute_reply": "2023-09-23T15:26:45.939937Z"
    }
   },
   "outputs": [],
   "source": [
    "feature_extractor = AutoFeatureExtractor.from_pretrained(\"MIT/ast-finetuned-audioset-10-10-0.4593\")"
   ]
  },
  {
   "cell_type": "code",
   "execution_count": 12,
   "metadata": {
    "execution": {
     "iopub.execute_input": "2023-09-23T15:26:45.943911Z",
     "iopub.status.busy": "2023-09-23T15:26:45.943380Z",
     "iopub.status.idle": "2023-09-23T15:26:46.774838Z",
     "shell.execute_reply": "2023-09-23T15:26:46.773838Z"
    }
   },
   "outputs": [],
   "source": [
    "accuracy = evaluate.load(\"accuracy\")\n",
    "\n",
    "def compute_metrics(eval_pred):\n",
    "    predictions = np.argmax(eval_pred.predictions, axis=1)\n",
    "    return accuracy.compute(predictions=predictions, references=eval_pred.label_ids)\n",
    "\n",
    "def f1_score_macro(eval_pred):\n",
    "    predictions, labels = eval_pred\n",
    "    predictions = np.argmax(predictions, axis=1)  # Convert logits to class index\n",
    "    return {\"f1_macro\": f1_score(labels, predictions, average=\"macro\")}\n",
    "\n",
    "class FocalLoss(nn.Module):\n",
    "    def __init__(self, alpha=1, gamma=2, reduction='mean'):\n",
    "        super(FocalLoss, self).__init__()\n",
    "        self.alpha = alpha\n",
    "        self.gamma = gamma\n",
    "        self.reduction = reduction\n",
    "\n",
    "    def forward(self, inputs, targets):\n",
    "        log_prob = F.log_softmax(inputs, dim=-1)\n",
    "        prob = torch.exp(log_prob)\n",
    "        return F.nll_loss(\n",
    "            ((1 - prob) ** self.gamma) * log_prob,\n",
    "            targets,\n",
    "            reduction=self.reduction\n",
    "        )\n",
    "    \n",
    "class ThresholdEarlyStoppingCallback(TrainerCallback):\n",
    "    def on_evaluate(self, args, state, control, metrics, **kwargs):\n",
    "        f1 = metrics['eval_f1_macro']\n",
    "        if f1 > 0.60:\n",
    "            control.should_training_stop = True\n",
    "        return control"
   ]
  },
  {
   "cell_type": "code",
   "execution_count": 13,
   "metadata": {
    "execution": {
     "iopub.execute_input": "2023-09-23T15:26:46.777651Z",
     "iopub.status.busy": "2023-09-23T15:26:46.777128Z",
     "iopub.status.idle": "2023-09-23T15:26:47.954264Z",
     "shell.execute_reply": "2023-09-23T15:26:47.953244Z"
    }
   },
   "outputs": [
    {
     "name": "stderr",
     "output_type": "stream",
     "text": [
      "Some weights of ASTForAudioClassification were not initialized from the model checkpoint at MIT/ast-finetuned-audioset-10-10-0.4593 and are newly initialized because the shapes did not match:\n",
      "- classifier.dense.bias: found shape torch.Size([527]) in the checkpoint and torch.Size([3]) in the model instantiated\n",
      "- classifier.dense.weight: found shape torch.Size([527, 768]) in the checkpoint and torch.Size([3, 768]) in the model instantiated\n",
      "You should probably TRAIN this model on a down-stream task to be able to use it for predictions and inference.\n"
     ]
    }
   ],
   "source": [
    "num_labels = len(id2label)\n",
    "config = AutoConfig.from_pretrained(\"MIT/ast-finetuned-audioset-10-10-0.4593\", num_labels=num_labels, \n",
    "                                    id2label=id2label, label2id=label2id)\n",
    "model = AutoModelForAudioClassification.from_pretrained(\n",
    "    \"MIT/ast-finetuned-audioset-10-10-0.4593\", config=config, ignore_mismatched_sizes=True\n",
    ")\n",
    "model.classifier.dense = torch.nn.Linear(model.config.hidden_size, num_labels)\n",
    "model = model.to(device)"
   ]
  },
  {
   "cell_type": "code",
   "execution_count": 14,
   "metadata": {
    "execution": {
     "iopub.execute_input": "2023-09-23T15:26:47.957025Z",
     "iopub.status.busy": "2023-09-23T15:26:47.956588Z",
     "iopub.status.idle": "2023-09-23T15:26:47.962831Z",
     "shell.execute_reply": "2023-09-23T15:26:47.962193Z"
    }
   },
   "outputs": [],
   "source": [
    "training_args = TrainingArguments(\n",
    "    output_dir=\"./output_ast\",\n",
    "    evaluation_strategy=\"epoch\",\n",
    "    save_strategy=\"epoch\",\n",
    "    learning_rate=3e-5,\n",
    "    per_device_train_batch_size=16,\n",
    "    gradient_accumulation_steps=4,\n",
    "    per_device_eval_batch_size=16,\n",
    "    num_train_epochs=200,\n",
    "    warmup_ratio=0.1,\n",
    "    logging_steps=100,\n",
    "    load_best_model_at_end=True,\n",
    "    metric_for_best_model=\"f1_macro\",\n",
    "    save_total_limit=1,\n",
    "    push_to_hub=False,\n",
    ")"
   ]
  },
  {
   "cell_type": "code",
   "execution_count": 15,
   "metadata": {
    "execution": {
     "iopub.execute_input": "2023-09-23T15:26:47.965137Z",
     "iopub.status.busy": "2023-09-23T15:26:47.964696Z",
     "iopub.status.idle": "2023-09-23T15:26:48.367591Z",
     "shell.execute_reply": "2023-09-23T15:26:48.366568Z"
    }
   },
   "outputs": [],
   "source": [
    "trainer = Trainer(\n",
    "    model=model,\n",
    "    args=training_args,\n",
    "    train_dataset=train_dataset,\n",
    "    eval_dataset=eval_dataset,\n",
    "    tokenizer=feature_extractor,\n",
    "    compute_metrics=f1_score_macro,\n",
    "    callbacks=[],\n",
    ")"
   ]
  },
  {
   "cell_type": "code",
   "execution_count": 16,
   "metadata": {
    "execution": {
     "iopub.execute_input": "2023-09-23T15:26:48.370692Z",
     "iopub.status.busy": "2023-09-23T15:26:48.369936Z",
     "iopub.status.idle": "2023-09-23T23:14:15.745889Z",
     "shell.execute_reply": "2023-09-23T23:14:15.744986Z"
    }
   },
   "outputs": [
    {
     "data": {
      "text/html": [
       "\n",
       "    <div>\n",
       "      \n",
       "      <progress value='382' max='15800' style='width:300px; height:20px; vertical-align: middle;'></progress>\n",
       "      [  382/15800 10:55 < 7:23:00, 0.58 it/s, Epoch 4.81/200]\n",
       "    </div>\n",
       "    <table border=\"1\" class=\"dataframe\">\n",
       "  <thead>\n",
       " <tr style=\"text-align: left;\">\n",
       "      <th>Epoch</th>\n",
       "      <th>Training Loss</th>\n",
       "      <th>Validation Loss</th>\n",
       "      <th>F1 Macro</th>\n",
       "    </tr>\n",
       "  </thead>\n",
       "  <tbody>\n",
       "    <tr>\n",
       "      <td>0</td>\n",
       "      <td>No log</td>\n",
       "      <td>0.880848</td>\n",
       "      <td>0.323396</td>\n",
       "    </tr>\n",
       "    <tr>\n",
       "      <td>1</td>\n",
       "      <td>0.965800</td>\n",
       "      <td>0.859473</td>\n",
       "      <td>0.328906</td>\n",
       "    </tr>\n",
       "    <tr>\n",
       "      <td>2</td>\n",
       "      <td>0.861000</td>\n",
       "      <td>0.852322</td>\n",
       "      <td>0.360371</td>\n",
       "    </tr>\n",
       "    <tr>\n",
       "      <td>4</td>\n",
       "      <td>0.803400</td>\n",
       "      <td>0.866924</td>\n",
       "      <td>0.367122</td>\n",
       "    </tr>\n",
       "  </tbody>\n",
       "</table><p>"
      ],
      "text/plain": [
       "<IPython.core.display.HTML object>"
      ]
     },
     "metadata": {},
     "output_type": "display_data"
    },
    {
     "ename": "KeyboardInterrupt",
     "evalue": "",
     "output_type": "error",
     "traceback": [
      "\u001b[0;31m---------------------------------------------------------------------------\u001b[0m",
      "\u001b[0;31mKeyboardInterrupt\u001b[0m                         Traceback (most recent call last)",
      "\u001b[1;32m/mnt/workplace/annomi_classification/clf_ast.ipynb Cell 15\u001b[0m line \u001b[0;36m1\n\u001b[0;32m----> <a href='vscode-notebook-cell://attached-container%2B7b22636f6e7461696e65724e616d65223a22746f7263685f3233222c2273657474696e6773223a7b22686f7374223a227373683a2f2f6b6174656461616e2e73656d6c612e64666b692e646576227d7d/mnt/workplace/annomi_classification/clf_ast.ipynb#X20sdnNjb2RlLXJlbW90ZQ%3D%3D?line=0'>1</a>\u001b[0m trainer\u001b[39m.\u001b[39;49mtrain()\n",
      "File \u001b[0;32m/usr/local/lib/python3.10/dist-packages/transformers/trainer.py:1553\u001b[0m, in \u001b[0;36mTrainer.train\u001b[0;34m(self, resume_from_checkpoint, trial, ignore_keys_for_eval, **kwargs)\u001b[0m\n\u001b[1;32m   1551\u001b[0m         hf_hub_utils\u001b[39m.\u001b[39menable_progress_bars()\n\u001b[1;32m   1552\u001b[0m \u001b[39melse\u001b[39;00m:\n\u001b[0;32m-> 1553\u001b[0m     \u001b[39mreturn\u001b[39;00m inner_training_loop(\n\u001b[1;32m   1554\u001b[0m         args\u001b[39m=\u001b[39;49margs,\n\u001b[1;32m   1555\u001b[0m         resume_from_checkpoint\u001b[39m=\u001b[39;49mresume_from_checkpoint,\n\u001b[1;32m   1556\u001b[0m         trial\u001b[39m=\u001b[39;49mtrial,\n\u001b[1;32m   1557\u001b[0m         ignore_keys_for_eval\u001b[39m=\u001b[39;49mignore_keys_for_eval,\n\u001b[1;32m   1558\u001b[0m     )\n",
      "File \u001b[0;32m/usr/local/lib/python3.10/dist-packages/transformers/trainer.py:1840\u001b[0m, in \u001b[0;36mTrainer._inner_training_loop\u001b[0;34m(self, batch_size, args, resume_from_checkpoint, trial, ignore_keys_for_eval)\u001b[0m\n\u001b[1;32m   1834\u001b[0m \u001b[39mwith\u001b[39;00m \u001b[39mself\u001b[39m\u001b[39m.\u001b[39maccelerator\u001b[39m.\u001b[39maccumulate(model):\n\u001b[1;32m   1835\u001b[0m     tr_loss_step \u001b[39m=\u001b[39m \u001b[39mself\u001b[39m\u001b[39m.\u001b[39mtraining_step(model, inputs)\n\u001b[1;32m   1837\u001b[0m \u001b[39mif\u001b[39;00m (\n\u001b[1;32m   1838\u001b[0m     args\u001b[39m.\u001b[39mlogging_nan_inf_filter\n\u001b[1;32m   1839\u001b[0m     \u001b[39mand\u001b[39;00m \u001b[39mnot\u001b[39;00m is_torch_tpu_available()\n\u001b[0;32m-> 1840\u001b[0m     \u001b[39mand\u001b[39;00m (torch\u001b[39m.\u001b[39misnan(tr_loss_step) \u001b[39mor\u001b[39;00m torch\u001b[39m.\u001b[39;49misinf(tr_loss_step))\n\u001b[1;32m   1841\u001b[0m ):\n\u001b[1;32m   1842\u001b[0m     \u001b[39m# if loss is nan or inf simply add the average of previous logged losses\u001b[39;00m\n\u001b[1;32m   1843\u001b[0m     tr_loss \u001b[39m+\u001b[39m\u001b[39m=\u001b[39m tr_loss \u001b[39m/\u001b[39m (\u001b[39m1\u001b[39m \u001b[39m+\u001b[39m \u001b[39mself\u001b[39m\u001b[39m.\u001b[39mstate\u001b[39m.\u001b[39mglobal_step \u001b[39m-\u001b[39m \u001b[39mself\u001b[39m\u001b[39m.\u001b[39m_globalstep_last_logged)\n\u001b[1;32m   1844\u001b[0m \u001b[39melse\u001b[39;00m:\n",
      "\u001b[0;31mKeyboardInterrupt\u001b[0m: "
     ]
    }
   ],
   "source": [
    "trainer.train()"
   ]
  },
  {
   "cell_type": "code",
   "execution_count": null,
   "metadata": {
    "execution": {
     "iopub.execute_input": "2023-09-23T23:14:15.748489Z",
     "iopub.status.busy": "2023-09-23T23:14:15.748284Z",
     "iopub.status.idle": "2023-09-23T23:14:27.239977Z",
     "shell.execute_reply": "2023-09-23T23:14:27.239059Z"
    }
   },
   "outputs": [
    {
     "data": {
      "text/html": [],
      "text/plain": [
       "<IPython.core.display.HTML object>"
      ]
     },
     "metadata": {},
     "output_type": "display_data"
    },
    {
     "name": "stdout",
     "output_type": "stream",
     "text": [
      "                 precision    recall  f1-score   support\n",
      "\n",
      "       question       0.53      0.51      0.52       364\n",
      "therapist_input       0.49      0.28      0.36       187\n",
      "     reflection       0.54      0.28      0.37       282\n",
      "          other       0.57      0.85      0.69       455\n",
      "\n",
      "       accuracy                           0.55      1288\n",
      "      macro avg       0.53      0.48      0.48      1288\n",
      "   weighted avg       0.54      0.55      0.52      1288\n",
      "\n"
     ]
    }
   ],
   "source": [
    "from sklearn.metrics import classification_report\n",
    "\n",
    "# Get predictions\n",
    "predictions, labels, _ = trainer.predict(eval_dataset)\n",
    "predictions = np.argmax(predictions, axis=1)\n",
    "\n",
    "# Print classification report\n",
    "print(classification_report(labels, predictions, target_names=label2id.keys()))"
   ]
  }
 ],
 "metadata": {
  "kernelspec": {
   "display_name": "mlStuff",
   "language": "python",
   "name": "python3"
  },
  "language_info": {
   "codemirror_mode": {
    "name": "ipython",
    "version": 3
   },
   "file_extension": ".py",
   "mimetype": "text/x-python",
   "name": "python",
   "nbconvert_exporter": "python",
   "pygments_lexer": "ipython3",
   "version": "3.10.12"
  }
 },
 "nbformat": 4,
 "nbformat_minor": 2
}
