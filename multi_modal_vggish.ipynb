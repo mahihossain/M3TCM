{
 "cells": [
  {
   "cell_type": "code",
   "execution_count": 1,
   "metadata": {},
   "outputs": [
    {
     "name": "stderr",
     "output_type": "stream",
     "text": [
      "2023-09-23 11:38:31.644246: I tensorflow/core/platform/cpu_feature_guard.cc:183] This TensorFlow binary is optimized to use available CPU instructions in performance-critical operations.\n",
      "To enable the following instructions: SSE3 SSE4.1 SSE4.2 AVX, in other operations, rebuild TensorFlow with the appropriate compiler flags.\n"
     ]
    }
   ],
   "source": [
    "import pandas as pd\n",
    "import numpy as np\n",
    "from sklearn.model_selection import train_test_split\n",
    "from sklearn import preprocessing\n",
    "from sklearn.preprocessing import StandardScaler\n",
    "from tensorflow.keras.preprocessing.sequence import pad_sequences\n",
    "from sklearn.metrics import classification_report\n",
    "from keras.callbacks import ModelCheckpoint\n",
    "from keras.models import load_model\n",
    "from keras.callbacks import EarlyStopping"
   ]
  },
  {
   "cell_type": "code",
   "execution_count": 2,
   "metadata": {},
   "outputs": [],
   "source": [
    "df = pd.read_pickle('Annomi_VGGish.pkl')"
   ]
  },
  {
   "cell_type": "code",
   "execution_count": 3,
   "metadata": {},
   "outputs": [],
   "source": [
    "# Get a dataframe where interlocutor is cleint\n",
    "df_client = df[df['interlocutor'] == 'client']\n",
    "\n",
    "# Get a dataframe where interlocutor is therapist\n",
    "df_therapist = df[df['interlocutor'] == 'therapist']"
   ]
  },
  {
   "cell_type": "markdown",
   "metadata": {},
   "source": [
    "# Preprocessing"
   ]
  },
  {
   "cell_type": "code",
   "execution_count": 4,
   "metadata": {},
   "outputs": [],
   "source": [
    "import tensorflow as tf\n",
    "from tensorflow.keras.models import Sequential\n",
    "from tensorflow.keras.layers import LSTM, Dense, Dropout\n",
    "import tensorflow.keras.backend as K\n",
    "from tensorflow.keras.utils import to_categorical\n",
    "import tensorflow as tf\n"
   ]
  },
  {
   "cell_type": "code",
   "execution_count": 5,
   "metadata": {},
   "outputs": [],
   "source": [
    "# Split the df_therapist into train and test sets depending on the unique id of video_title\n",
    "# The train set contains 80% of the data and the test set contains 20% of the data\n",
    "\n",
    "# video_titles = df_client['video_title'].unique()\n",
    "\n",
    "# train_video_titles, test_video_titles = train_test_split(video_titles, test_size=0.2, random_state=42)\n",
    "\n",
    "# train_df = df_client[df_client['video_title'].isin(train_video_titles)]\n",
    "# test_df = df_client[df_client['video_title'].isin(test_video_titles)]"
   ]
  },
  {
   "cell_type": "code",
   "execution_count": 6,
   "metadata": {},
   "outputs": [],
   "source": [
    "# Train test split\n",
    "# train_df, test_df = train_test_split(df_client, test_size=0.2, random_state=42)\n",
    "\n",
    "train_df, test_df = train_test_split(df_therapist, test_size=0.2, random_state=42)"
   ]
  },
  {
   "cell_type": "code",
   "execution_count": 7,
   "metadata": {},
   "outputs": [],
   "source": [
    "# labeling the y_train and y_test\n",
    "# y_train_classes = train_df['client_talk_type']\n",
    "# le = preprocessing.LabelEncoder()\n",
    "# le.fit(y_train_classes)\n",
    "# print(f'Original classes {le.classes_}')\n",
    "# print(f'Corresponding numeric classes {le.transform(le.classes_)}')\n",
    "# y_train = le.transform(y_train_classes)\n",
    "# y_test_classes = test_df['client_talk_type']\n",
    "# y_test = le.transform(y_test_classes)"
   ]
  },
  {
   "cell_type": "code",
   "execution_count": 8,
   "metadata": {},
   "outputs": [
    {
     "name": "stdout",
     "output_type": "stream",
     "text": [
      "Original classes ['other' 'question' 'reflection' 'therapist_input']\n",
      "Corresponding numeric classes [0 1 2 3]\n"
     ]
    }
   ],
   "source": [
    "# labeling the y_train and y_test\n",
    "y_train_classes = train_df['main_therapist_behaviour']\n",
    "le = preprocessing.LabelEncoder()\n",
    "le.fit(y_train_classes)\n",
    "print(f'Original classes {le.classes_}')\n",
    "print(f'Corresponding numeric classes {le.transform(le.classes_)}')\n",
    "y_train = le.transform(y_train_classes)\n",
    "y_test_classes = test_df['main_therapist_behaviour']\n",
    "y_test = le.transform(y_test_classes)"
   ]
  },
  {
   "cell_type": "code",
   "execution_count": 9,
   "metadata": {},
   "outputs": [],
   "source": [
    "# X_train and X_test\n",
    "\n",
    "# X_train = train_df['client_vggish_emb']\n",
    "# X_test = test_df['client_vggish_emb']\n",
    "\n",
    "X_train = train_df['therapist_vggish_emb']\n",
    "X_test = test_df['therapist_vggish_emb']"
   ]
  },
  {
   "cell_type": "code",
   "execution_count": 10,
   "metadata": {},
   "outputs": [
    {
     "data": {
      "text/plain": [
       "(5152,)"
      ]
     },
     "execution_count": 10,
     "metadata": {},
     "output_type": "execute_result"
    }
   ],
   "source": [
    "X_train.shape"
   ]
  },
  {
   "cell_type": "code",
   "execution_count": 11,
   "metadata": {},
   "outputs": [],
   "source": [
    "def pad_sequence(sequence, maxlen):\n",
    "    if isinstance(sequence, list):\n",
    "        sequence = np.array(sequence)\n",
    "        \n",
    "    # Get the embedding size\n",
    "    embedding_size = sequence.shape[-1]\n",
    "    \n",
    "    # Create a padded sequence filled with zeros\n",
    "    padded_sequence = np.zeros((maxlen, embedding_size))\n",
    "    \n",
    "    # Copy the original sequence into the beginning of the padded sequence\n",
    "    padded_sequence[:sequence.shape[0], :embedding_size] = sequence\n",
    "    \n",
    "    return padded_sequence"
   ]
  },
  {
   "cell_type": "code",
   "execution_count": 12,
   "metadata": {},
   "outputs": [],
   "source": [
    "# Get the maximum sequence length\n",
    "MAXLEN = max(X_train.apply(len).max(), X_test.apply(len).max())\n",
    "\n",
    "# Use the above function to pad X_train and X_test\n",
    "X_train_padded = np.array([pad_sequence(seq, MAXLEN) for seq in X_train])\n",
    "X_test_padded = np.array([pad_sequence(seq, MAXLEN) for seq in X_test])\n"
   ]
  },
  {
   "cell_type": "code",
   "execution_count": 13,
   "metadata": {},
   "outputs": [],
   "source": [
    "num_classes = len(le.classes_)\n",
    "y_train_onehot = to_categorical(y_train, num_classes=num_classes)\n",
    "y_test_onehot = to_categorical(y_test, num_classes=num_classes)\n"
   ]
  },
  {
   "cell_type": "markdown",
   "metadata": {},
   "source": [
    "# Classification"
   ]
  },
  {
   "cell_type": "code",
   "execution_count": 14,
   "metadata": {},
   "outputs": [],
   "source": [
    "def focal_loss(alpha=0.25, gamma=2.0):\n",
    "    def focal_loss_fixed(y_true, y_pred):\n",
    "        y_true = K.cast(y_true, dtype='float32')\n",
    "        \n",
    "        # Scale predictions so that the class probas of each sample sum to 1\n",
    "        y_pred /= K.sum(y_pred, axis=-1, keepdims=True)\n",
    "        # Clip to prevent NaN's and Inf's\n",
    "        epsilon = K.epsilon()\n",
    "        y_pred = K.clip(y_pred, epsilon, 1.0 - epsilon)\n",
    "        \n",
    "        # Calculate Cross Entropy\n",
    "        cross_entropy = -y_true * K.log(y_pred)\n",
    "        \n",
    "        # Calculate Focal Loss\n",
    "        loss = alpha * (1 - y_pred) ** gamma * cross_entropy\n",
    "        \n",
    "        # Sum the losses in mini_batch\n",
    "        return K.sum(loss, axis=1)\n",
    "    \n",
    "    return focal_loss_fixed\n",
    "\n",
    "# Save the best model\n",
    "checkpoint_filepath = './best_model_vggish'\n",
    "model_checkpoint_callback = ModelCheckpoint(\n",
    "    filepath=checkpoint_filepath,\n",
    "    save_best_only=True,\n",
    "    monitor='val_f1_macro',\n",
    "    mode='max',\n",
    "    verbose=1\n",
    ")\n",
    "\n",
    "early_stopping = EarlyStopping(\n",
    "    monitor='val_f1_macro', \n",
    "    patience=5,  # Number of epochs with no improvement after which training will be stopped\n",
    "    verbose=1,\n",
    "    mode='max'  # Because we want to maximize the val_f1_macro value\n",
    ")\n",
    "\n",
    "def f1_macro(y_true, y_pred):\n",
    "    def recall(y_true, y_pred):\n",
    "        \"\"\"Recall metric.\n",
    "        Computes the recall, a metric for multi-label classification of\n",
    "        how many relevant items are selected.\n",
    "        \"\"\"\n",
    "        true_positives = K.sum(K.round(K.clip(y_true * y_pred, 0, 1)))\n",
    "        possible_positives = K.sum(K.round(K.clip(y_true, 0, 1)))\n",
    "        recall = true_positives / (possible_positives + K.epsilon())\n",
    "        return recall\n",
    "\n",
    "    def precision(y_true, y_pred):\n",
    "        \"\"\"Precision metric.\n",
    "        Computes the precision, a metric for multi-label classification of\n",
    "        how many selected items are relevant.\n",
    "        \"\"\"\n",
    "        true_positives = K.sum(K.round(K.clip(y_true * y_pred, 0, 1)))\n",
    "        predicted_positives = K.sum(K.round(K.clip(y_pred, 0, 1)))\n",
    "        precision = true_positives / (predicted_positives + K.epsilon())\n",
    "        return precision\n",
    "    \n",
    "    precision_val = precision(y_true, y_pred)\n",
    "    recall_val = recall(y_true, y_pred)\n",
    "    return 2*((precision_val * recall_val) / (precision_val + recall_val + K.epsilon()))\n",
    "\n",
    "\n",
    "\n",
    "# Define the learning rate schedule\n",
    "class WarmUpCosineDecayScheduler(tf.keras.callbacks.Callback):\n",
    "    def __init__(self, learning_rate_base, total_steps, global_step_init=0, warmup_learning_rate=0.0,\n",
    "                 warmup_steps=0, hold_base_rate_steps=0):\n",
    "        super(WarmUpCosineDecayScheduler, self).__init__()\n",
    "        self.learning_rate_base = learning_rate_base\n",
    "        self.total_steps = total_steps\n",
    "        self.global_step = global_step_init\n",
    "        self.warmup_learning_rate = warmup_learning_rate\n",
    "        self.warmup_steps = warmup_steps\n",
    "        self.hold_base_rate_steps = hold_base_rate_steps\n",
    "        self.learning_rates = []\n",
    "\n",
    "    def on_batch_end(self, batch, logs=None):\n",
    "        self.global_step = self.global_step + 1\n",
    "        lr = self._decayed_lr(tf.float32)\n",
    "        tf.keras.backend.set_value(self.model.optimizer.lr, lr)\n",
    "        self.learning_rates.append(lr)\n",
    "\n",
    "    def _decayed_lr(self, var_type):\n",
    "        warmup_learning_rate = tf.convert_to_tensor(self.warmup_learning_rate, var_type)\n",
    "        learning_rate_base = tf.convert_to_tensor(self.learning_rate_base, var_type)\n",
    "        global_step = tf.convert_to_tensor(self.global_step, var_type)\n",
    "        warmup_steps = tf.convert_to_tensor(self.warmup_steps, var_type)\n",
    "        total_steps = tf.convert_to_tensor(self.total_steps, var_type)\n",
    "        hold_base_rate_steps = tf.convert_to_tensor(self.hold_base_rate_steps, var_type)\n",
    "\n",
    "        learning_rate = tf.where(\n",
    "            global_step < warmup_steps,\n",
    "            warmup_learning_rate + ((learning_rate_base - warmup_learning_rate) *\n",
    "                                    (global_step / warmup_steps)),\n",
    "            learning_rate_base * tf.cos(\n",
    "                np.pi * (global_step - warmup_steps - hold_base_rate_steps) / (total_steps - warmup_steps - hold_base_rate_steps))\n",
    "        )\n",
    "        return tf.where(global_step > (warmup_steps + hold_base_rate_steps), learning_rate, learning_rate_base)\n",
    "\n",
    "# Approximate number of training steps\n",
    "TOTAL_STEPS = int(len(X_train) / 32 * 20)  # 20 epochs\n",
    "WARMUP_STEPS = int(TOTAL_STEPS * 0.1)\n",
    "\n",
    "# Create the learning rate scheduler\n",
    "lr_schedule = WarmUpCosineDecayScheduler(learning_rate_base=0.001,\n",
    "                                         total_steps=TOTAL_STEPS,\n",
    "                                         warmup_learning_rate=0.0,\n",
    "                                         warmup_steps=WARMUP_STEPS)\n"
   ]
  },
  {
   "cell_type": "code",
   "execution_count": 15,
   "metadata": {},
   "outputs": [],
   "source": [
    "embedding_size = X_train_padded.shape[-1]\n",
    "input_shape = (MAXLEN, embedding_size)"
   ]
  },
  {
   "cell_type": "code",
   "execution_count": 16,
   "metadata": {},
   "outputs": [
    {
     "data": {
      "text/plain": [
       "(803, 128)"
      ]
     },
     "execution_count": 16,
     "metadata": {},
     "output_type": "execute_result"
    }
   ],
   "source": [
    "input_shape"
   ]
  },
  {
   "cell_type": "code",
   "execution_count": 17,
   "metadata": {},
   "outputs": [
    {
     "name": "stderr",
     "output_type": "stream",
     "text": [
      "2023-09-23 11:38:39.271851: I tensorflow/compiler/xla/stream_executor/cuda/cuda_gpu_executor.cc:995] successful NUMA node read from SysFS had negative value (-1), but there must be at least one NUMA node, so returning NUMA node zero. See more at https://github.com/torvalds/linux/blob/v6.0/Documentation/ABI/testing/sysfs-bus-pci#L344-L355\n",
      "2023-09-23 11:38:39.277995: I tensorflow/compiler/xla/stream_executor/cuda/cuda_gpu_executor.cc:995] successful NUMA node read from SysFS had negative value (-1), but there must be at least one NUMA node, so returning NUMA node zero. See more at https://github.com/torvalds/linux/blob/v6.0/Documentation/ABI/testing/sysfs-bus-pci#L344-L355\n",
      "2023-09-23 11:38:39.278250: I tensorflow/compiler/xla/stream_executor/cuda/cuda_gpu_executor.cc:995] successful NUMA node read from SysFS had negative value (-1), but there must be at least one NUMA node, so returning NUMA node zero. See more at https://github.com/torvalds/linux/blob/v6.0/Documentation/ABI/testing/sysfs-bus-pci#L344-L355\n",
      "2023-09-23 11:38:39.286040: I tensorflow/compiler/xla/stream_executor/cuda/cuda_gpu_executor.cc:995] successful NUMA node read from SysFS had negative value (-1), but there must be at least one NUMA node, so returning NUMA node zero. See more at https://github.com/torvalds/linux/blob/v6.0/Documentation/ABI/testing/sysf"
     ]
    },
    {
     "name": "stderr",
     "output_type": "stream",
     "text": [
      "s-bus-pci#L344-L355\n",
      "2023-09-23 11:38:39.286347: I tensorflow/compiler/xla/stream_executor/cuda/cuda_gpu_executor.cc:995] successful NUMA node read from SysFS had negative value (-1), but there must be at least one NUMA node, so returning NUMA node zero. See more at https://github.com/torvalds/linux/blob/v6.0/Documentation/ABI/testing/sysfs-bus-pci#L344-L355\n",
      "2023-09-23 11:38:39.286532: I tensorflow/compiler/xla/stream_executor/cuda/cuda_gpu_executor.cc:995] successful NUMA node read from SysFS had negative value (-1), but there must be at least one NUMA node, so returning NUMA node zero. See more at https://github.com/torvalds/linux/blob/v6.0/Documentation/ABI/testing/sysfs-bus-pci#L344-L355\n",
      "2023-09-23 11:38:39.384210: I tensorflow/compiler/xla/stream_executor/cuda/cuda_gpu_executor.cc:995] successful NUMA node read from SysFS had negative value (-1), but there must be at least one NUMA node, so returning NUMA node zero. See more at https://github.com/torvalds/linux/blob/v6.0/Documentation/ABI/testing/sysfs-bus-pci#L344-L355\n",
      "2023-09-23 11:38:39.384458: I tensorflow/compiler/xla/stream_executor/cuda/cuda_gpu_executor.cc:995] successful NUMA node read from SysFS had negative value (-1), but there must be at least one NUMA node, so returning NUMA node zero. See more at https://github.com/torvalds/linux/blob/v6.0/Documentation/ABI/testing/sysfs-bus-pci#L344-L355\n",
      "2023-09-23 11:38:39.384649: I tensorflow/compiler/xla/stream_executor/cuda/cuda_gpu_executor.cc:995] successful NUMA node read from SysFS had negative value (-1), but there must be at least one NUMA node, so returning NUMA node zero. See more at https://github.com/torvalds/linux/blob/v6.0/Documentation/ABI/testing/sysfs-bus-pci#L344-L355\n",
      "2023-09-23 11:38:39.384793: I tensorflow/core/common_runtime/gpu/gpu_device.cc:1636] Created device /job:localhost/replica:0/task:0/device:GPU:0 with 38319 MB memory:  -> device: 0, name: NVIDIA A100-SXM4-40GB, pci bus id: 0000:07:00.0, compute capability: 8.0\n"
     ]
    }
   ],
   "source": [
    "model = Sequential()\n",
    "\n",
    "model.add(LSTM(256, input_shape=(MAXLEN, embedding_size), return_sequences=True))\n",
    "model.add(Dropout(0.1))\n",
    "\n",
    "model.add(LSTM(128, return_sequences=True))\n",
    "model.add(Dropout(0.1))\n",
    "\n",
    "model.add(LSTM(64, return_sequences=True))\n",
    "model.add(Dropout(0.1))\n",
    "\n",
    "model.add(LSTM(32))\n",
    "model.add(Dropout(0.1))\n",
    "\n",
    "model.add(Dense(128, activation='relu'))\n",
    "model.add(Dropout(0.1))\n",
    "model.add(Dense(64, activation='relu'))\n",
    "model.add(Dropout(0.1))\n",
    "\n",
    "model.add(Dense(num_classes, activation='softmax'))\n",
    "\n",
    "model.compile(optimizer='adam', loss='categorical_crossentropy', metrics=['accuracy', f1_macro])"
   ]
  },
  {
   "cell_type": "code",
   "execution_count": 18,
   "metadata": {},
   "outputs": [
    {
     "name": "stdout",
     "output_type": "stream",
     "text": [
      "Epoch 1/100\n"
     ]
    },
    {
     "name": "stderr",
     "output_type": "stream",
     "text": [
      "2023-09-23 11:38:47.585852: I tensorflow/compiler/xla/stream_executor/cuda/cuda_dnn.cc:432] Loaded cuDNN version 8904\n",
      "2023-09-23 11:38:47.710626: I tensorflow/compiler/xla/stream_executor/cuda/cuda_blas.cc:625] TensorFloat-32 will be used for the matrix multiplication. This will only be logged once.\n",
      "2023-09-23 11:38:47.727803: I tensorflow/compiler/xla/service/service.cc:168] XLA service 0x7fb049d65900 initialized for platform CUDA (this does not guarantee that XLA will be used). Devices:\n",
      "2023-09-23 11:38:47.727869: I tensorflow/compiler/xla/service/service.cc:176]   StreamExecutor device (0): NVIDIA A100-SXM4-40GB, Compute Capability 8.0\n",
      "2023-09-23 11:38:47.734374: I tensorflow/compiler/mlir/tensorflow/utils/dump_mlir_util.cc:255] disabling MLIR crash reproducer, set env var `MLIR_CRASH_REPRODUCER_DIRECTORY` to enable.\n",
      "2023-09-23 11:38:47.870017: I ./tensorflow/compiler/jit/device_compiler.h:186] Compiled cluster using XLA!  This line is logged at most once for the lifetime of the process.\n"
     ]
    },
    {
     "name": "stdout",
     "output_type": "stream",
     "text": [
      "644/644 [==============================] - ETA: 0s - loss: 1.3637 - accuracy: 0.3069 - f1_macro: 0.0029\n",
      "Epoch 1: val_f1_macro improved from -inf to 0.00000, saving model to ./best_model_vggish\n",
      "INFO:tensorflow:Assets written to: ./best_model_vggish/assets\n"
     ]
    },
    {
     "name": "stderr",
     "output_type": "stream",
     "text": [
      "INFO:tensorflow:Assets written to: ./best_model_vggish/assets\n"
     ]
    },
    {
     "name": "stdout",
     "output_type": "stream",
     "text": [
      "644/644 [==============================] - 74s 107ms/step - loss: 1.3637 - accuracy: 0.3069 - f1_macro: 0.0029 - val_loss: 1.3494 - val_accuracy: 0.3533 - val_f1_macro: 0.0000e+00\n",
      "Epoch 2/100\n",
      "644/644 [==============================] - ETA: 0s - loss: 1.3598 - accuracy: 0.3073 - f1_macro: 0.0000e+00\n",
      "Epoch 2: val_f1_macro did not improve from 0.00000\n",
      "644/644 [==============================] - 59s 92ms/step - loss: 1.3598 - accuracy: 0.3073 - f1_macro: 0.0000e+00 - val_loss: 1.3501 - val_accuracy: 0.3533 - val_f1_macro: 0.0000e+00\n",
      "Epoch 3/100\n",
      "644/644 [==============================] - ETA: 0s - loss: 1.3580 - accuracy: 0.3090 - f1_macro: 0.0000e+00\n",
      "Epoch 3: val_f1_macro did not improve from 0.00000\n",
      "644/644 [==============================] - 59s 92ms/step - loss: 1.3580 - accuracy: 0.3090 - f1_macro: 0.0000e+00 - val_loss: 1.3462 - val_accuracy: 0.3533 - val_f1_macro: 0.0000e+00\n",
      "Epoch 4/100\n",
      "644/644 [==============================] - ETA: 0s - loss: 23728.4180 - accuracy: 0.2069 - f1_macro: 0.1010\n",
      "Epoch 4: val_f1_macro improved from 0.00000 to 0.14519, saving model to ./best_model_vggish\n",
      "INFO:tensorflow:Assets written to: ./best_model_vggish/assets\n"
     ]
    },
    {
     "name": "stderr",
     "output_type": "stream",
     "text": [
      "INFO:tensorflow:Assets written to: ./best_model_vggish/assets\n"
     ]
    },
    {
     "name": "stdout",
     "output_type": "stream",
     "text": [
      "644/644 [==============================] - 68s 106ms/step - loss: 23728.4180 - accuracy: 0.2069 - f1_macro: 0.1010 - val_loss: 145962.7188 - val_accuracy: 0.1452 - val_f1_macro: 0.1452\n",
      "Epoch 5/100\n",
      "644/644 [==============================] - ETA: 0s - loss: 895853.9375 - accuracy: 0.1549 - f1_macro: 0.1549\n",
      "Epoch 5: val_f1_macro did not improve from 0.14519\n",
      "644/644 [==============================] - 59s 92ms/step - loss: 895853.9375 - accuracy: 0.1549 - f1_macro: 0.1549 - val_loss: 2175097.0000 - val_accuracy: 0.1452 - val_f1_macro: 0.1452\n",
      "Epoch 6/100\n",
      "644/644 [==============================] - ETA: 0s - loss: 4287345.0000 - accuracy: 0.1549 - f1_macro: 0.1549\n",
      "Epoch 6: val_f1_macro did not improve from 0.14519\n",
      "644/644 [==============================] - 59s 92ms/step - loss: 4287345.0000 - accuracy: 0.1549 - f1_macro: 0.1549 - val_loss: 6685376.5000 - val_accuracy: 0.1452 - val_f1_macro: 0.1452\n",
      "Epoch 7/100\n",
      "644/644 [==============================] - ETA: 0s - loss: 8455992.0000 - accuracy: 0.1549 - f1_macro: 0.1549\n",
      "Epoch 7: val_f1_macro did not improve from 0.14519\n",
      "644/644 [==============================] - 60s 93ms/step - loss: 8455992.0000 - accuracy: 0.1549 - f1_macro: 0.1549 - val_loss: 9782297.0000 - val_accuracy: 0.1452 - val_f1_macro: 0.1452\n",
      "Epoch 8/100\n",
      "644/644 [==============================] - ETA: 0s - loss: 9543690.0000 - accuracy: 0.1549 - f1_macro: 0.1549\n",
      "Epoch 8: val_f1_macro did not improve from 0.14519\n",
      "644/644 [==============================] - 60s 93ms/step - loss: 9543690.0000 - accuracy: 0.1549 - f1_macro: 0.1549 - val_loss: 8942974.0000 - val_accuracy: 0.1452 - val_f1_macro: 0.1452\n",
      "Epoch 9/100\n",
      "644/644 [==============================] - ETA: 0s - loss: 3999234.7500 - accuracy: 0.2023 - f1_macro: 0.1272\n",
      "Epoch 9: val_f1_macro did not improve from 0.14519\n",
      "644/644 [==============================] - 60s 93ms/step - loss: 3999234.7500 - accuracy: 0.2023 - f1_macro: 0.1272 - val_loss: 1.3427 - val_accuracy: 0.3533 - val_f1_macro: 0.0000e+00\n",
      "Epoch 9: early stopping\n"
     ]
    }
   ],
   "source": [
    "history = model.fit(X_train_padded, y_train_onehot,\n",
    "                    validation_data=(X_test_padded, y_test_onehot),\n",
    "                    epochs=100, batch_size=8,\n",
    "                    callbacks=[lr_schedule, model_checkpoint_callback, early_stopping])"
   ]
  },
  {
   "cell_type": "code",
   "execution_count": 19,
   "metadata": {},
   "outputs": [
    {
     "name": "stdout",
     "output_type": "stream",
     "text": [
      "41/41 [==============================] - 3s 39ms/step\n",
      "                 precision    recall  f1-score   support\n",
      "\n",
      "          other       0.00      0.00      0.00       455\n",
      "       question       0.00      0.00      0.00       364\n",
      "     reflection       0.00      0.00      0.00       282\n",
      "therapist_input       0.15      1.00      0.25       187\n",
      "\n",
      "       accuracy                           0.15      1288\n",
      "      macro avg       0.04      0.25      0.06      1288\n",
      "   weighted avg       0.02      0.15      0.04      1288\n",
      "\n"
     ]
    },
    {
     "name": "stderr",
     "output_type": "stream",
     "text": [
      "/usr/local/lib/python3.10/dist-packages/sklearn/metrics/_classification.py:1344: UndefinedMetricWarning: Precision and F-score are ill-defined and being set to 0.0 in labels with no predicted samples. Use `zero_division` parameter to control this behavior.\n",
      "  _warn_prf(average, modifier, msg_start, len(result))\n",
      "/usr/local/lib/python3.10/dist-packages/sklearn/metrics/_classification.py:1344: UndefinedMetricWarning: Precision and F-score are ill-defined and being set to 0.0 in labels with no predicted samples. Use `zero_division` parameter to control this behavior.\n",
      "  _warn_prf(average, modifier, msg_start, len(result))\n",
      "/usr/local/lib/python3.10/dist-packages/sklearn/metrics/_classification.py:1344: UndefinedMetricWarning: Precision and F-score are ill-defined and being set to 0.0 in labels with no predicted samples. Use `zero_division` parameter to control this behavior.\n",
      "  _warn_prf(average, modifier, msg_start, len(result))\n"
     ]
    }
   ],
   "source": [
    "# Classification report\n",
    "best_model = load_model(checkpoint_filepath, custom_objects={'f1_macro': f1_macro})\n",
    "y_pred = best_model.predict(X_test_padded)\n",
    "y_pred_classes = np.argmax(y_pred, axis=1)\n",
    "print(classification_report(y_test, y_pred_classes, target_names=le.classes_))"
   ]
  },
  {
   "cell_type": "code",
   "execution_count": 20,
   "metadata": {},
   "outputs": [
    {
     "data": {
      "image/png": "[encoded data removed]",
      "text/plain": [
       "<Figure size 1200x400 with 3 Axes>"
      ]
     },
     "metadata": {},
     "output_type": "display_data"
    }
   ],
   "source": [
    "import matplotlib.pyplot as plt\n",
    "\n",
    "# Plot training & validation accuracy\n",
    "plt.figure(figsize=(12, 4))\n",
    "\n",
    "plt.subplot(1, 3, 1)\n",
    "plt.plot(history.history['accuracy'])\n",
    "plt.plot(history.history['val_accuracy'])\n",
    "plt.title('Model Accuracy')\n",
    "plt.ylabel('Accuracy')\n",
    "plt.xlabel('Epoch')\n",
    "plt.legend(['Train', 'Test'], loc='upper left')\n",
    "\n",
    "# Plot training & validation loss\n",
    "plt.subplot(1, 3, 2)\n",
    "plt.plot(history.history['loss'])\n",
    "plt.plot(history.history['val_loss'])\n",
    "plt.title('Model Loss')\n",
    "plt.ylabel('Loss')\n",
    "plt.xlabel('Epoch')\n",
    "plt.legend(['Train', 'Test'], loc='upper left')\n",
    "\n",
    "# Plot training & validation F1 Macro score\n",
    "plt.subplot(1, 3, 3)\n",
    "plt.plot(history.history['f1_macro'])\n",
    "plt.plot(history.history['val_f1_macro'])\n",
    "plt.title('Model F1 Macro Score')\n",
    "plt.ylabel('F1 Macro')\n",
    "plt.xlabel('Epoch')\n",
    "plt.legend(['Train', 'Test'], loc='upper left')\n",
    "\n",
    "plt.tight_layout()\n",
    "plt.show()\n"
   ]
  }
 ],
 "metadata": {
  "kernelspec": {
   "display_name": "mlStuff",
   "language": "python",
   "name": "python3"
  },
  "language_info": {
   "codemirror_mode": {
    "name": "ipython",
    "version": 3
   },
   "file_extension": ".py",
   "mimetype": "text/x-python",
   "name": "python",
   "nbconvert_exporter": "python",
   "pygments_lexer": "ipython3",
   "version": "3.10.12"
  },
  "orig_nbformat": 4
 },
 "nbformat": 4,
 "nbformat_minor": 2
}
